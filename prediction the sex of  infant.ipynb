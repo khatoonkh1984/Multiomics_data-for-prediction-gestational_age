{
 "cells": [
  {
   "cell_type": "markdown",
   "id": "86581f24",
   "metadata": {},
   "source": [
    "##  Prediction the sex of newborn\n",
    "\n",
    "I have implemented Multi of Layer Perceptron(MLP) using Pytorch and XGBoost. For implemention by MLP, we go through these steps:\n",
    "\n",
    "* Reduction dimension of dataset using Umap\n",
    "\n",
    "* MLP (Model): Define the Layers , Activation function , Number of nodes for the MultiLayerPerceptron\n",
    "\n",
    "* Structure of MLP : 2 Hidden Layers, Normalizing the batch data usign batchnorm in between each layer, Using ReLU Activation function between the layers, Using dropout before sending to output, Sigmoid at the output layer to make probabilities between 0 to 1."
   ]
  },
  {
   "cell_type": "markdown",
   "id": "950afe3d",
   "metadata": {},
   "source": [
    "Deep learning and tabular data infamously have a difficult relationship with each other. The homogeneity of data is not something that someone immediately thinks about when tackling tabular data. The exact characteristics that cause the weak performance of deep learning on tabular data are the following:\n",
    "\n",
    "* 1-Different features in tables have different statistical properties. Some features correlate strongly with others and have a strong influence on what the outcome may be while others have minimal impact.\n",
    "\n",
    "* 2-This correlation is also weaker than correlations prevalent in spatial or semantic relationships (image and audio)."
   ]
  },
  {
   "cell_type": "code",
   "execution_count": 5,
   "id": "41a22fc2",
   "metadata": {},
   "outputs": [],
   "source": [
    "%matplotlib inline\n",
    "import numpy as np\n",
    "import pickle\n",
    "import pandas as pd\n",
    "import math\n",
    "import matplotlib.pyplot as plt\n",
    "import seaborn as sns; sns.set()\n",
    "\n",
    "from sklearn.preprocessing import StandardScaler\n",
    "from sklearn.decomposition import PCA\n",
    "from sklearn.utils import resample # for Bootstrap sampling\n",
    "from sklearn.model_selection import RepeatedKFold\n",
    "from sklearn.model_selection import cross_val_score\n",
    "from sklearn.model_selection import GridSearchCV\n",
    "from scipy.stats import pearsonr\n",
    "from sklearn.model_selection import LeaveOneOut\n",
    "from sklearn.linear_model import ElasticNet\n",
    "from sklearn.datasets import make_regression\n",
    "from sklearn.linear_model import RidgeCV\n"
   ]
  },
  {
   "cell_type": "markdown",
   "id": "07fcc69c",
   "metadata": {},
   "source": []
  },
  {
   "cell_type": "code",
   "execution_count": 3,
   "id": "a7a7bce9",
   "metadata": {},
   "outputs": [],
   "source": [
    "with open(\"task1_multiomics_data.pickle\", \"rb\") as file:\n",
    "    data_multiomics = pickle.load(file)\n",
    "    \n",
    "\n",
    "cellfree_rna=data_multiomics[\"cellfree_rna\"]\n",
    "plasma_luminex=data_multiomics[\"plasma_luminex\"]\n",
    "serum_luminex=data_multiomics[\"serum_luminex\"]\n",
    "microbiome=data_multiomics[\"microbiome\"]\n",
    "immune_system=data_multiomics[\"immune_system\"]\n",
    "metabolomics=data_multiomics[\"metabolomics\"]\n",
    "plasma_somalogic=data_multiomics[\"plasma_somalogic\"]\n",
    "# Place the DataFrames side by side\n",
    "data_frame = pd.concat([cellfree_rna, plasma_luminex, serum_luminex,microbiome, immune_system, metabolomics,plasma_somalogic], axis=1)\n",
    "y = data_multiomics['sex_bin']"
   ]
  },
  {
   "cell_type": "markdown",
   "id": "53c0ff83",
   "metadata": {},
   "source": [
    "#### Reduction dimension of dataset "
   ]
  },
  {
   "cell_type": "code",
   "execution_count": 4,
   "id": "03983afd",
   "metadata": {},
   "outputs": [
    {
     "data": {
      "text/plain": [
       "(68, 2)"
      ]
     },
     "execution_count": 4,
     "metadata": {},
     "output_type": "execute_result"
    }
   ],
   "source": [
    "from sklearn.impute import SimpleImputer\n",
    "from sklearn.pipeline import make_pipeline\n",
    "import umap # pip install umap-learn\n",
    "import umap.umap_ as umap\n",
    "\n",
    "# Preprocess on \n",
    "pipe = make_pipeline(SimpleImputer(strategy=\"mean\"))\n",
    "X = pipe.fit_transform(data_frame.copy())\n",
    "manifold = umap.UMAP().fit(X, y)\n",
    "X_reduced = manifold.transform(X)\n",
    "X_reduced.shape"
   ]
  },
  {
   "cell_type": "markdown",
   "id": "fb4cd6d6",
   "metadata": {},
   "source": [
    "#### Splitting dataset into Train & Test"
   ]
  },
  {
   "cell_type": "code",
   "execution_count": 5,
   "id": "05249c89",
   "metadata": {},
   "outputs": [
    {
     "name": "stdout",
     "output_type": "stream",
     "text": [
      "\n",
      "--Training data samples--\n",
      "(51, 2)\n"
     ]
    }
   ],
   "source": [
    "\n",
    "\n",
    "train_x,test_x,train_y,test_y = train_test_split(X_reduced,y,random_state=42)\n",
    "print(\"\\n--Training data samples--\")\n",
    "print(train_x.shape)\n"
   ]
  },
  {
   "cell_type": "markdown",
   "id": "5c77d527",
   "metadata": {},
   "source": [
    "### Pytorch Neural Net Model\n",
    "**Convert data into Pytorch Tensors**"
   ]
  },
  {
   "cell_type": "code",
   "execution_count": 9,
   "id": "6286d6ae",
   "metadata": {},
   "outputs": [],
   "source": [
    "###First use a MinMaxscaler to scale all the features of Train & Test dataframes\n",
    "\n",
    "scaler = preprocessing.MinMaxScaler()\n",
    "x_train = scaler.fit_transform(train_x)\n",
    "x_test =  scaler.fit_transform(test_x)\n",
    "\n",
    "\n",
    "###Then convert the Train and Test sets into Tensors\n",
    "\n",
    "x_tensor =  torch.from_numpy(x_train).float()\n",
    "y_tensor =  torch.from_numpy(train_y.values.ravel()).float()\n",
    "xtest_tensor =  torch.from_numpy(x_test).float()\n",
    "ytest_tensor =  torch.from_numpy(test_y.values.ravel()).float()\n"
   ]
  },
  {
   "cell_type": "markdown",
   "id": "52ea77a6",
   "metadata": {},
   "source": [
    "#### DataLoader to pass the data in batches to the model"
   ]
  },
  {
   "cell_type": "code",
   "execution_count": 10,
   "id": "5bdcef23",
   "metadata": {},
   "outputs": [],
   "source": [
    "#Define a batch size , \n",
    "bs = 64\n",
    "#Both x_train and y_train can be combined in a single TensorDataset, which will be easier to iterate over and slice\n",
    "y_tensor = y_tensor.unsqueeze(1)\n",
    "train_ds = TensorDataset(x_tensor, y_tensor)\n",
    "#Pytorch’s DataLoader is responsible for managing batches. \n",
    "#You can create a DataLoader from any Dataset. DataLoader makes it easier to iterate over batches\n",
    "train_dl = DataLoader(train_ds, batch_size=bs)\n",
    "\n",
    "\n",
    "#For the validation/test dataset\n",
    "ytest_tensor = ytest_tensor.unsqueeze(1)\n",
    "test_ds = TensorDataset(xtest_tensor, ytest_tensor)\n",
    "test_loader = DataLoader(test_ds, batch_size=32)"
   ]
  },
  {
   "cell_type": "code",
   "execution_count": 12,
   "id": "cdcf27e9",
   "metadata": {},
   "outputs": [
    {
     "name": "stdout",
     "output_type": "stream",
     "text": [
      "ChurnModel(\n",
      "  (layer_1): Linear(in_features=2, out_features=300, bias=True)\n",
      "  (layer_2): Linear(in_features=300, out_features=100, bias=True)\n",
      "  (layer_out): Linear(in_features=100, out_features=1, bias=True)\n",
      "  (relu): ReLU()\n",
      "  (sigmoid): Sigmoid()\n",
      "  (dropout): Dropout(p=0.1, inplace=False)\n",
      "  (batchnorm1): BatchNorm1d(300, eps=1e-05, momentum=0.1, affine=True, track_running_stats=True)\n",
      "  (batchnorm2): BatchNorm1d(100, eps=1e-05, momentum=0.1, affine=True, track_running_stats=True)\n",
      ")\n"
     ]
    }
   ],
   "source": [
    "n_input_dim = train_x.shape[1]\n",
    "\n",
    "#Layer size\n",
    "n_hidden1 = 300  # Number of hidden nodes\n",
    "n_hidden2 = 100\n",
    "n_output =  1   # Number of output nodes = for binary classifier\n",
    "\n",
    "\n",
    "class ChurnModel(nn.Module):\n",
    "    def __init__(self):\n",
    "        super(ChurnModel, self).__init__()\n",
    "        self.layer_1 = nn.Linear(n_input_dim, n_hidden1) \n",
    "        self.layer_2 = nn.Linear(n_hidden1, n_hidden2)\n",
    "        self.layer_out = nn.Linear(n_hidden2, n_output) \n",
    "        \n",
    "        \n",
    "        self.relu = nn.ReLU()\n",
    "        self.sigmoid =  nn.Sigmoid()\n",
    "        self.dropout = nn.Dropout(p=0.1)\n",
    "        self.batchnorm1 = nn.BatchNorm1d(n_hidden1)\n",
    "        self.batchnorm2 = nn.BatchNorm1d(n_hidden2)\n",
    "        \n",
    "        \n",
    "    def forward(self, inputs):\n",
    "        x = self.relu(self.layer_1(inputs))\n",
    "        x = self.batchnorm1(x)\n",
    "        x = self.relu(self.layer_2(x))\n",
    "        x = self.batchnorm2(x)\n",
    "        x = self.dropout(x)\n",
    "        x = self.sigmoid(self.layer_out(x))\n",
    "        \n",
    "        return x\n",
    "    \n",
    "\n",
    "model = ChurnModel()\n",
    "print(model)"
   ]
  },
  {
   "cell_type": "markdown",
   "id": "3c20b16d",
   "metadata": {},
   "source": [
    "#### Defining parameters (pretty much standard setting for Binary class problem)\n",
    "* Loss computation function : Here using Binary Cross Entropy (BCE) which is defacto for Binary class problems\n",
    "* Learning rate : Setting as 0.001 (can be optimized further)\n",
    "* Optimizer : Using Adam \n",
    "* Epochs of Training : setting as 50"
   ]
  },
  {
   "cell_type": "code",
   "execution_count": 14,
   "id": "1cc61bf7",
   "metadata": {},
   "outputs": [],
   "source": [
    "#Loss Computation\n",
    "loss_func = nn.BCELoss()\n",
    "#Optimizer\n",
    "learning_rate = 0.001\n",
    "optimizer = torch.optim.Adam(model.parameters(), lr=learning_rate)\n",
    "epochs = 50"
   ]
  },
  {
   "cell_type": "markdown",
   "id": "9cb6bf2c",
   "metadata": {},
   "source": [
    "### Training the MLP Model\n",
    "NN Steps flow\n",
    "\n",
    "* Forward Propagation\n",
    "* Loss computation\n",
    "* Backpropagation\n",
    "* Updating the parameters"
   ]
  },
  {
   "cell_type": "code",
   "execution_count": 17,
   "id": "811322b3",
   "metadata": {},
   "outputs": [
    {
     "name": "stdout",
     "output_type": "stream",
     "text": [
      "Last iteration loss value: 0.008822152391076088\n"
     ]
    }
   ],
   "source": [
    "model.train()\n",
    "train_loss = []\n",
    "for epoch in range(epochs):\n",
    "    #Within each epoch run the subsets of data = batch sizes.\n",
    "    for xb, yb in train_dl:\n",
    "        y_pred = model(xb)            # Forward Propagation\n",
    "        loss = loss_func(y_pred, yb)  # Loss Computation\n",
    "        optimizer.zero_grad()         # Clearing all previous gradients, setting to zero \n",
    "        loss.backward()               # Back Propagation\n",
    "        optimizer.step()              # Updating the parameters \n",
    "    #print(\"Loss in iteration :\"+str(epoch)+\" is: \"+str(loss.item()))\n",
    "    train_loss.append(loss.item())\n",
    "print('Last iteration loss value: '+str(loss.item()))"
   ]
  },
  {
   "cell_type": "markdown",
   "id": "25006caf",
   "metadata": {},
   "source": [
    "**Plotting the loss shows that model pretty much stabilized after 30 epochs itself**"
   ]
  },
  {
   "cell_type": "code",
   "execution_count": 18,
   "id": "0950c161",
   "metadata": {},
   "outputs": [
    {
     "data": {
      "image/png": "[encoded data removed]",
      "text/plain": [
       "<Figure size 432x288 with 1 Axes>"
      ]
     },
     "metadata": {
      "needs_background": "light"
     },
     "output_type": "display_data"
    }
   ],
   "source": [
    "plt.plot(train_loss)\n",
    "plt.show()"
   ]
  },
  {
   "cell_type": "markdown",
   "id": "5886956f",
   "metadata": {},
   "source": [
    "#### Test Dataset prediction on trained NN"
   ]
  },
  {
   "cell_type": "code",
   "execution_count": 19,
   "id": "6135f164",
   "metadata": {},
   "outputs": [],
   "source": [
    "import itertools\n",
    "\n",
    "y_pred_list = []\n",
    "model.eval()\n",
    "#Since we don't need model to back propagate the gradients in test set we use torch.no_grad()\n",
    "# reduces memory usage and speeds up computation\n",
    "with torch.no_grad():\n",
    "    for xb_test,yb_test  in test_loader:\n",
    "        y_test_pred = model(xb_test)\n",
    "        y_pred_tag = torch.round(y_test_pred)\n",
    "        y_pred_list.append(y_pred_tag.detach().numpy())\n",
    "\n",
    "#Takes arrays and makes them list of list for each batch        \n",
    "y_pred_list = [a.squeeze().tolist() for a in y_pred_list]\n",
    "#flattens the lists in sequence\n",
    "ytest_pred = list(itertools.chain.from_iterable(y_pred_list))"
   ]
  },
  {
   "cell_type": "markdown",
   "id": "2f6a543c",
   "metadata": {},
   "source": [
    "#### Metrics that matter\n",
    "\n",
    "* Precision\n",
    "* Recall\n",
    "* F1 Score\n",
    "* Confusion Matrix"
   ]
  },
  {
   "cell_type": "code",
   "execution_count": 20,
   "id": "de64c82e",
   "metadata": {},
   "outputs": [
    {
     "name": "stdout",
     "output_type": "stream",
     "text": [
      "Confusion Matrix of the Test Set\n",
      "-----------\n",
      "[[9 0]\n",
      " [0 8]]\n",
      "Precision of the MLP :\t1.0\n",
      "Recall of the MLP    :\t1.0\n",
      "F1 Score of the Model :\t1.0\n"
     ]
    }
   ],
   "source": [
    "y_true_test = test_y.values.ravel()\n",
    "conf_matrix = confusion_matrix(y_true_test ,ytest_pred)\n",
    "print(\"Confusion Matrix of the Test Set\")\n",
    "print(\"-----------\")\n",
    "print(conf_matrix)\n",
    "print(\"Precision of the MLP :\\t\"+str(precision_score(y_true_test,ytest_pred)))\n",
    "print(\"Recall of the MLP    :\\t\"+str(recall_score(y_true_test,ytest_pred)))\n",
    "print(\"F1 Score of the Model :\\t\"+str(f1_score(y_true_test,ytest_pred)))"
   ]
  },
  {
   "cell_type": "markdown",
   "id": "96584d26",
   "metadata": {},
   "source": [
    "### 3. XGBoostClassifier"
   ]
  },
  {
   "cell_type": "markdown",
   "id": "12883569",
   "metadata": {},
   "source": [
    "### 3.2. Training"
   ]
  },
  {
   "cell_type": "code",
   "execution_count": 24,
   "id": "0198bffd",
   "metadata": {},
   "outputs": [
    {
     "name": "stdout",
     "output_type": "stream",
     "text": [
      "Train Result:\n",
      "================================================\n",
      "Accuracy Score: 100.00%\n",
      "_______________________________________________\n",
      "CLASSIFICATION REPORT:\n",
      "              0     1  accuracy  macro avg  weighted avg\n",
      "precision   1.0   1.0       1.0        1.0           1.0\n",
      "recall      1.0   1.0       1.0        1.0           1.0\n",
      "f1-score    1.0   1.0       1.0        1.0           1.0\n",
      "support    27.0  24.0       1.0       51.0          51.0\n",
      "_______________________________________________\n",
      "Confusion Matrix: \n",
      " [[27  0]\n",
      " [ 0 24]]\n",
      "\n"
     ]
    }
   ],
   "source": [
    "\n",
    "\n",
    "\n",
    "from xgboost import XGBClassifier\n",
    "\n",
    "xgb_clf = XGBClassifier(use_label_encoder=False)\n",
    "xgb_clf.fit(train_x, train_y)\n",
    "\n",
    "### 3.3 Evaluation \n",
    "\n",
    "from sklearn.metrics import accuracy_score, confusion_matrix, classification_report\n",
    "\n",
    "def print_score(clf, X_train, y_train, X_test, y_test, train=True):\n",
    "    if train:\n",
    "        pred = clf.predict(X_train)\n",
    "        clf_report = pd.DataFrame(classification_report(y_train, pred, output_dict=True))\n",
    "        print(\"Train Result:\\n================================================\")\n",
    "        print(f\"Accuracy Score: {accuracy_score(y_train, pred) * 100:.2f}%\")\n",
    "        print(\"_______________________________________________\")\n",
    "        print(f\"CLASSIFICATION REPORT:\\n{clf_report}\")\n",
    "        print(\"_______________________________________________\")\n",
    "        print(f\"Confusion Matrix: \\n {confusion_matrix(y_train, pred)}\\n\")\n",
    "        \n",
    "    elif train==False:\n",
    "        pred = clf.predict(X_test)\n",
    "        clf_report = pd.DataFrame(classification_report(y_test, pred, output_dict=True))\n",
    "        print(\"Test Result:\\n================================================\")        \n",
    "        print(f\"Accuracy Score: {accuracy_score(y_test, pred) * 100:.2f}%\")\n",
    "        print(\"_______________________________________________\")\n",
    "        print(f\"CLASSIFICATION REPORT:\\n{clf_report}\")\n",
    "        print(\"_______________________________________________\")\n",
    "        print(f\"Confusion Matrix: \\n {confusion_matrix(y_test, pred)}\\n\")\n",
    "\n",
    "print_score(xgb_clf, train_x, train_y, test_x, test_y, train=True)\n",
    "#print_score(xgb_clf, train_x, train_y, test_x, test_y, train=False)\n"
   ]
  },
  {
   "cell_type": "code",
   "execution_count": null,
   "id": "4ab40fbc",
   "metadata": {},
   "outputs": [],
   "source": []
  },
  {
   "cell_type": "code",
   "execution_count": null,
   "id": "961a9c7b",
   "metadata": {},
   "outputs": [],
   "source": []
  }
 ],
 "metadata": {
  "kernelspec": {
   "display_name": "Python 3 (ipykernel)",
   "language": "python",
   "name": "python3"
  },
  "language_info": {
   "codemirror_mode": {
    "name": "ipython",
    "version": 3
   },
   "file_extension": ".py",
   "mimetype": "text/x-python",
   "name": "python",
   "nbconvert_exporter": "python",
   "pygments_lexer": "ipython3",
   "version": "3.10.6"
  }
 },
 "nbformat": 4,
 "nbformat_minor": 5
}
